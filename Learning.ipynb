{
 "cells": [
  {
   "cell_type": "code",
   "execution_count": 1,
   "id": "f41f7f60-aef9-4a7f-9e0b-da072d26bd64",
   "metadata": {},
   "outputs": [],
   "source": [
    "import pandas as pd\n",
    "import numpy as np"
   ]
  },
  {
   "cell_type": "code",
   "execution_count": 2,
   "id": "afb01ce1-9885-4220-8f49-95e243d25d3b",
   "metadata": {},
   "outputs": [],
   "source": [
    "#data user for the example\n",
    "np.random.seed(42)"
   ]
  },
  {
   "cell_type": "code",
   "execution_count": 3,
   "id": "5865d86f-33dc-4a5e-9df0-2250dc4cb0e1",
   "metadata": {},
   "outputs": [],
   "source": [
    "data = {\n",
    "   'Name': [f'Person {i}' for i in range(1, 101)],\n",
    "    'Age': np.random.randint(18, 65, size=100),\n",
    "    'Email': [f'{np.random.choice([\"gmail\", \"yahoo\", \"hotmail\"])}@{np.random.choice([\"com\", \"org\", \"net\"])}' for _ in range(100)],\n",
    "    'Country': [np.random.choice([\"USA\", \"Canada\", \"UK\", \"Australia\", \"Germany\"]) for _ in range(100)],\n",
    "    'Score': np.random.randint(0, 100, size=100)\n",
    "}"
   ]
  },
  {
   "cell_type": "code",
   "execution_count": 4,
   "id": "9039504e-1035-453c-9fcd-b9330b359464",
   "metadata": {},
   "outputs": [],
   "source": [
    "df = pd.DataFrame(data)"
   ]
  },
  {
   "cell_type": "code",
   "execution_count": 5,
   "id": "1e625b5e-3b00-4359-bcd1-06832d7dcb3d",
   "metadata": {},
   "outputs": [
    {
     "data": {
      "text/html": [
       "<div>\n",
       "<style scoped>\n",
       "    .dataframe tbody tr th:only-of-type {\n",
       "        vertical-align: middle;\n",
       "    }\n",
       "\n",
       "    .dataframe tbody tr th {\n",
       "        vertical-align: top;\n",
       "    }\n",
       "\n",
       "    .dataframe thead th {\n",
       "        text-align: right;\n",
       "    }\n",
       "</style>\n",
       "<table border=\"1\" class=\"dataframe\">\n",
       "  <thead>\n",
       "    <tr style=\"text-align: right;\">\n",
       "      <th></th>\n",
       "      <th>Name</th>\n",
       "      <th>Age</th>\n",
       "      <th>Email</th>\n",
       "      <th>Country</th>\n",
       "      <th>Score</th>\n",
       "    </tr>\n",
       "  </thead>\n",
       "  <tbody>\n",
       "    <tr>\n",
       "      <th>0</th>\n",
       "      <td>Person 1</td>\n",
       "      <td>56</td>\n",
       "      <td>hotmail@net</td>\n",
       "      <td>UK</td>\n",
       "      <td>4</td>\n",
       "    </tr>\n",
       "    <tr>\n",
       "      <th>1</th>\n",
       "      <td>Person 2</td>\n",
       "      <td>46</td>\n",
       "      <td>hotmail@com</td>\n",
       "      <td>Germany</td>\n",
       "      <td>67</td>\n",
       "    </tr>\n",
       "    <tr>\n",
       "      <th>2</th>\n",
       "      <td>Person 3</td>\n",
       "      <td>32</td>\n",
       "      <td>hotmail@net</td>\n",
       "      <td>USA</td>\n",
       "      <td>5</td>\n",
       "    </tr>\n",
       "    <tr>\n",
       "      <th>3</th>\n",
       "      <td>Person 4</td>\n",
       "      <td>60</td>\n",
       "      <td>gmail@net</td>\n",
       "      <td>Australia</td>\n",
       "      <td>95</td>\n",
       "    </tr>\n",
       "    <tr>\n",
       "      <th>4</th>\n",
       "      <td>Person 5</td>\n",
       "      <td>25</td>\n",
       "      <td>gmail@org</td>\n",
       "      <td>USA</td>\n",
       "      <td>93</td>\n",
       "    </tr>\n",
       "    <tr>\n",
       "      <th>...</th>\n",
       "      <td>...</td>\n",
       "      <td>...</td>\n",
       "      <td>...</td>\n",
       "      <td>...</td>\n",
       "      <td>...</td>\n",
       "    </tr>\n",
       "    <tr>\n",
       "      <th>95</th>\n",
       "      <td>Person 96</td>\n",
       "      <td>24</td>\n",
       "      <td>yahoo@com</td>\n",
       "      <td>Australia</td>\n",
       "      <td>50</td>\n",
       "    </tr>\n",
       "    <tr>\n",
       "      <th>96</th>\n",
       "      <td>Person 97</td>\n",
       "      <td>26</td>\n",
       "      <td>hotmail@com</td>\n",
       "      <td>Germany</td>\n",
       "      <td>42</td>\n",
       "    </tr>\n",
       "    <tr>\n",
       "      <th>97</th>\n",
       "      <td>Person 98</td>\n",
       "      <td>41</td>\n",
       "      <td>gmail@org</td>\n",
       "      <td>USA</td>\n",
       "      <td>11</td>\n",
       "    </tr>\n",
       "    <tr>\n",
       "      <th>98</th>\n",
       "      <td>Person 99</td>\n",
       "      <td>18</td>\n",
       "      <td>yahoo@org</td>\n",
       "      <td>Germany</td>\n",
       "      <td>66</td>\n",
       "    </tr>\n",
       "    <tr>\n",
       "      <th>99</th>\n",
       "      <td>Person 100</td>\n",
       "      <td>61</td>\n",
       "      <td>yahoo@org</td>\n",
       "      <td>Australia</td>\n",
       "      <td>64</td>\n",
       "    </tr>\n",
       "  </tbody>\n",
       "</table>\n",
       "<p>100 rows × 5 columns</p>\n",
       "</div>"
      ],
      "text/plain": [
       "          Name  Age        Email    Country  Score\n",
       "0     Person 1   56  hotmail@net         UK      4\n",
       "1     Person 2   46  hotmail@com    Germany     67\n",
       "2     Person 3   32  hotmail@net        USA      5\n",
       "3     Person 4   60    gmail@net  Australia     95\n",
       "4     Person 5   25    gmail@org        USA     93\n",
       "..         ...  ...          ...        ...    ...\n",
       "95   Person 96   24    yahoo@com  Australia     50\n",
       "96   Person 97   26  hotmail@com    Germany     42\n",
       "97   Person 98   41    gmail@org        USA     11\n",
       "98   Person 99   18    yahoo@org    Germany     66\n",
       "99  Person 100   61    yahoo@org  Australia     64\n",
       "\n",
       "[100 rows x 5 columns]"
      ]
     },
     "execution_count": 5,
     "metadata": {},
     "output_type": "execute_result"
    }
   ],
   "source": [
    "df"
   ]
  },
  {
   "cell_type": "code",
   "execution_count": 6,
   "id": "5c57d8ee-c7d9-4619-b2fb-8aa0293e6c04",
   "metadata": {},
   "outputs": [
    {
     "data": {
      "text/html": [
       "<div>\n",
       "<style scoped>\n",
       "    .dataframe tbody tr th:only-of-type {\n",
       "        vertical-align: middle;\n",
       "    }\n",
       "\n",
       "    .dataframe tbody tr th {\n",
       "        vertical-align: top;\n",
       "    }\n",
       "\n",
       "    .dataframe thead th {\n",
       "        text-align: right;\n",
       "    }\n",
       "</style>\n",
       "<table border=\"1\" class=\"dataframe\">\n",
       "  <thead>\n",
       "    <tr style=\"text-align: right;\">\n",
       "      <th></th>\n",
       "      <th>Name</th>\n",
       "      <th>Age</th>\n",
       "      <th>Email</th>\n",
       "      <th>Country</th>\n",
       "      <th>Score</th>\n",
       "    </tr>\n",
       "  </thead>\n",
       "  <tbody>\n",
       "    <tr>\n",
       "      <th>0</th>\n",
       "      <td>Person 1</td>\n",
       "      <td>56</td>\n",
       "      <td>hotmail@net</td>\n",
       "      <td>UK</td>\n",
       "      <td>4</td>\n",
       "    </tr>\n",
       "    <tr>\n",
       "      <th>1</th>\n",
       "      <td>Person 2</td>\n",
       "      <td>46</td>\n",
       "      <td>hotmail@com</td>\n",
       "      <td>Germany</td>\n",
       "      <td>67</td>\n",
       "    </tr>\n",
       "    <tr>\n",
       "      <th>2</th>\n",
       "      <td>Person 3</td>\n",
       "      <td>32</td>\n",
       "      <td>hotmail@net</td>\n",
       "      <td>USA</td>\n",
       "      <td>5</td>\n",
       "    </tr>\n",
       "    <tr>\n",
       "      <th>3</th>\n",
       "      <td>Person 4</td>\n",
       "      <td>60</td>\n",
       "      <td>gmail@net</td>\n",
       "      <td>Australia</td>\n",
       "      <td>95</td>\n",
       "    </tr>\n",
       "    <tr>\n",
       "      <th>4</th>\n",
       "      <td>Person 5</td>\n",
       "      <td>25</td>\n",
       "      <td>gmail@org</td>\n",
       "      <td>USA</td>\n",
       "      <td>93</td>\n",
       "    </tr>\n",
       "  </tbody>\n",
       "</table>\n",
       "</div>"
      ],
      "text/plain": [
       "       Name  Age        Email    Country  Score\n",
       "0  Person 1   56  hotmail@net         UK      4\n",
       "1  Person 2   46  hotmail@com    Germany     67\n",
       "2  Person 3   32  hotmail@net        USA      5\n",
       "3  Person 4   60    gmail@net  Australia     95\n",
       "4  Person 5   25    gmail@org        USA     93"
      ]
     },
     "execution_count": 6,
     "metadata": {},
     "output_type": "execute_result"
    }
   ],
   "source": [
    "df.head()"
   ]
  },
  {
   "cell_type": "code",
   "execution_count": 10,
   "id": "88d89d24-5274-48f5-b118-2ca8059f7967",
   "metadata": {},
   "outputs": [
    {
     "data": {
      "text/html": [
       "<div>\n",
       "<style scoped>\n",
       "    .dataframe tbody tr th:only-of-type {\n",
       "        vertical-align: middle;\n",
       "    }\n",
       "\n",
       "    .dataframe tbody tr th {\n",
       "        vertical-align: top;\n",
       "    }\n",
       "\n",
       "    .dataframe thead th {\n",
       "        text-align: right;\n",
       "    }\n",
       "</style>\n",
       "<table border=\"1\" class=\"dataframe\">\n",
       "  <thead>\n",
       "    <tr style=\"text-align: right;\">\n",
       "      <th></th>\n",
       "      <th>Name</th>\n",
       "      <th>Age</th>\n",
       "      <th>Email</th>\n",
       "      <th>Country</th>\n",
       "      <th>Score</th>\n",
       "    </tr>\n",
       "  </thead>\n",
       "  <tbody>\n",
       "    <tr>\n",
       "      <th>95</th>\n",
       "      <td>Person 96</td>\n",
       "      <td>24</td>\n",
       "      <td>yahoo@com</td>\n",
       "      <td>Australia</td>\n",
       "      <td>50</td>\n",
       "    </tr>\n",
       "    <tr>\n",
       "      <th>96</th>\n",
       "      <td>Person 97</td>\n",
       "      <td>26</td>\n",
       "      <td>hotmail@com</td>\n",
       "      <td>Germany</td>\n",
       "      <td>42</td>\n",
       "    </tr>\n",
       "    <tr>\n",
       "      <th>97</th>\n",
       "      <td>Person 98</td>\n",
       "      <td>41</td>\n",
       "      <td>gmail@org</td>\n",
       "      <td>USA</td>\n",
       "      <td>11</td>\n",
       "    </tr>\n",
       "    <tr>\n",
       "      <th>98</th>\n",
       "      <td>Person 99</td>\n",
       "      <td>18</td>\n",
       "      <td>yahoo@org</td>\n",
       "      <td>Germany</td>\n",
       "      <td>66</td>\n",
       "    </tr>\n",
       "    <tr>\n",
       "      <th>99</th>\n",
       "      <td>Person 100</td>\n",
       "      <td>61</td>\n",
       "      <td>yahoo@org</td>\n",
       "      <td>Australia</td>\n",
       "      <td>64</td>\n",
       "    </tr>\n",
       "  </tbody>\n",
       "</table>\n",
       "</div>"
      ],
      "text/plain": [
       "          Name  Age        Email    Country  Score\n",
       "95   Person 96   24    yahoo@com  Australia     50\n",
       "96   Person 97   26  hotmail@com    Germany     42\n",
       "97   Person 98   41    gmail@org        USA     11\n",
       "98   Person 99   18    yahoo@org    Germany     66\n",
       "99  Person 100   61    yahoo@org  Australia     64"
      ]
     },
     "execution_count": 10,
     "metadata": {},
     "output_type": "execute_result"
    }
   ],
   "source": [
    "df.tail()"
   ]
  },
  {
   "cell_type": "code",
   "execution_count": 2,
   "id": "60da15f3-6977-467e-9368-e0a46edaf9d7",
   "metadata": {},
   "outputs": [
    {
     "name": "stdout",
     "output_type": "stream",
     "text": [
      "helllo\n"
     ]
    }
   ],
   "source": [
    "print(\"helllo\")"
   ]
  },
  {
   "cell_type": "code",
   "execution_count": 3,
   "id": "8846ef24-801c-4f79-afe3-a06bdf0113e1",
   "metadata": {},
   "outputs": [],
   "source": [
    "import matplotlib as plt"
   ]
  },
  {
   "cell_type": "code",
   "execution_count": 1,
   "id": "e4a411b9-71e5-4e89-8133-226f39abbbe2",
   "metadata": {},
   "outputs": [],
   "source": [
    "countries = ['USA', 'Bangladesh', 'India', 'China']"
   ]
  },
  {
   "cell_type": "code",
   "execution_count": 2,
   "id": "0677a220-bbff-4c26-9741-ba15a00d715c",
   "metadata": {},
   "outputs": [
    {
     "data": {
      "text/plain": [
       "['USA', 'Bangladesh', 'India', 'China']"
      ]
     },
     "execution_count": 2,
     "metadata": {},
     "output_type": "execute_result"
    }
   ],
   "source": [
    "countries"
   ]
  },
  {
   "cell_type": "code",
   "execution_count": 3,
   "id": "c40213bd-8582-462e-a240-40c25ab599f7",
   "metadata": {},
   "outputs": [],
   "source": [
    "countries[-1] = \"Top\""
   ]
  },
  {
   "cell_type": "code",
   "execution_count": 4,
   "id": "1e894e89-7c7d-4b19-9baa-ccb488a3d199",
   "metadata": {},
   "outputs": [
    {
     "data": {
      "text/plain": [
       "['USA', 'Bangladesh', 'India', 'Top']"
      ]
     },
     "execution_count": 4,
     "metadata": {},
     "output_type": "execute_result"
    }
   ],
   "source": [
    "countries"
   ]
  },
  {
   "cell_type": "code",
   "execution_count": 5,
   "id": "ffee65b1-1df2-4d78-ac23-0675d7c4a9ad",
   "metadata": {},
   "outputs": [],
   "source": [
    "countries[-4] = \"Ujjal\""
   ]
  },
  {
   "cell_type": "code",
   "execution_count": 6,
   "id": "d1a0dc27-d28b-49f2-aab8-2b3983691802",
   "metadata": {},
   "outputs": [
    {
     "data": {
      "text/plain": [
       "['Ujjal', 'Bangladesh', 'India', 'Top']"
      ]
     },
     "execution_count": 6,
     "metadata": {},
     "output_type": "execute_result"
    }
   ],
   "source": [
    "countries"
   ]
  },
  {
   "cell_type": "code",
   "execution_count": 7,
   "id": "9c201d65-116e-433e-89dd-6c9c22d1c7f0",
   "metadata": {},
   "outputs": [
    {
     "data": {
      "text/plain": [
       "['Ujjal']"
      ]
     },
     "execution_count": 7,
     "metadata": {},
     "output_type": "execute_result"
    }
   ],
   "source": [
    "countries[0:1]"
   ]
  },
  {
   "cell_type": "code",
   "execution_count": 8,
   "id": "202354f5-3c99-4d7d-bcae-a0eb686e5281",
   "metadata": {},
   "outputs": [
    {
     "data": {
      "text/plain": [
       "['Ujjal', 'Bangladesh', 'India', 'Top']"
      ]
     },
     "execution_count": 8,
     "metadata": {},
     "output_type": "execute_result"
    }
   ],
   "source": [
    "countries"
   ]
  },
  {
   "cell_type": "code",
   "execution_count": 9,
   "id": "56b5862b-b3f6-4905-a929-e26872dcb63b",
   "metadata": {},
   "outputs": [
    {
     "data": {
      "text/plain": [
       "['Bangladesh', 'India', 'Top']"
      ]
     },
     "execution_count": 9,
     "metadata": {},
     "output_type": "execute_result"
    }
   ],
   "source": [
    "countries[1:4]"
   ]
  },
  {
   "cell_type": "code",
   "execution_count": 10,
   "id": "bf55dc18-3c0f-423d-b9c4-7fd20f2266f4",
   "metadata": {},
   "outputs": [],
   "source": [
    "countries.append(\"kopa\")"
   ]
  },
  {
   "cell_type": "code",
   "execution_count": 11,
   "id": "02eaac94-2f22-4f93-991f-f32302d107e9",
   "metadata": {},
   "outputs": [
    {
     "data": {
      "text/plain": [
       "['Ujjal', 'Bangladesh', 'India', 'Top', 'kopa']"
      ]
     },
     "execution_count": 11,
     "metadata": {},
     "output_type": "execute_result"
    }
   ],
   "source": [
    "countries"
   ]
  },
  {
   "cell_type": "code",
   "execution_count": 14,
   "id": "e068bf40-c8c0-49ac-9b2a-242fd72f6a81",
   "metadata": {},
   "outputs": [],
   "source": [
    "countries.insert(0,\"tipap\")"
   ]
  },
  {
   "cell_type": "code",
   "execution_count": 15,
   "id": "6dece4cb-50f2-43e8-8686-d0c6a6d0304f",
   "metadata": {},
   "outputs": [
    {
     "data": {
      "text/plain": [
       "['tipap', 'top', 'Ujjal', 'Bangladesh', 'India', 'Top', 'kopa']"
      ]
     },
     "execution_count": 15,
     "metadata": {},
     "output_type": "execute_result"
    }
   ],
   "source": [
    "countries"
   ]
  },
  {
   "cell_type": "code",
   "execution_count": 16,
   "id": "8e3e72c9-f60a-40c8-ae19-e3cab1300a42",
   "metadata": {},
   "outputs": [],
   "source": [
    "trip1 = [\"tio\",\"crip\"]"
   ]
  },
  {
   "cell_type": "code",
   "execution_count": 17,
   "id": "152e2321-58fb-4e7f-bef6-cdb891624cdf",
   "metadata": {},
   "outputs": [
    {
     "data": {
      "text/plain": [
       "['tipap', 'top', 'Ujjal', 'Bangladesh', 'India', 'Top', 'kopa', 'tio', 'crip']"
      ]
     },
     "execution_count": 17,
     "metadata": {},
     "output_type": "execute_result"
    }
   ],
   "source": [
    "countries+trip1"
   ]
  },
  {
   "cell_type": "code",
   "execution_count": 18,
   "id": "4df23227-7c35-4664-bdff-5cf3b23c9a5a",
   "metadata": {},
   "outputs": [
    {
     "data": {
      "text/plain": [
       "['tipap', 'top', 'Ujjal', 'Bangladesh', 'India', 'Top', 'kopa']"
      ]
     },
     "execution_count": 18,
     "metadata": {},
     "output_type": "execute_result"
    }
   ],
   "source": [
    "countries"
   ]
  },
  {
   "cell_type": "code",
   "execution_count": 21,
   "id": "df50cf8d-8ecd-4dd4-b0de-ef1ba13172de",
   "metadata": {},
   "outputs": [],
   "source": [
    "countries.sort()"
   ]
  },
  {
   "cell_type": "code",
   "execution_count": 24,
   "id": "30542853-6c1e-47c5-a9f2-c13ee34b531a",
   "metadata": {},
   "outputs": [
    {
     "data": {
      "text/plain": [
       "['top', 'tipap', 'kopa', 'Ujjal', 'Top', 'India', 'Bangladesh']"
      ]
     },
     "execution_count": 24,
     "metadata": {},
     "output_type": "execute_result"
    }
   ],
   "source": [
    "countries"
   ]
  },
  {
   "cell_type": "code",
   "execution_count": 27,
   "id": "9799ae62-f84b-4401-8c6f-1718f12e239d",
   "metadata": {},
   "outputs": [
    {
     "data": {
      "text/plain": [
       "['top', 'tipap', 'kopa', 'Ujjal', 'Top', 'India', 'Bangladesh']"
      ]
     },
     "execution_count": 27,
     "metadata": {},
     "output_type": "execute_result"
    }
   ],
   "source": [
    "countries[:]"
   ]
  },
  {
   "cell_type": "code",
   "execution_count": 28,
   "id": "bc73607e-577d-4506-a8e3-594059f1c1ec",
   "metadata": {},
   "outputs": [
    {
     "name": "stdout",
     "output_type": "stream",
     "text": [
      "hello\n"
     ]
    }
   ],
   "source": [
    "x = 2\n",
    "if x %2 == 0:\n",
    "    print(\"hello\")\n",
    "else:\n",
    "    print(\"kopa\")"
   ]
  },
  {
   "cell_type": "code",
   "execution_count": 37,
   "id": "2f6d65b1-1724-4321-94f0-c1874247059b",
   "metadata": {},
   "outputs": [
    {
     "name": "stdout",
     "output_type": "stream",
     "text": [
      "1 = Countries name is top  and length is: 3\n",
      "2 = Countries name is tipap  and length is: 5\n",
      "3 = Countries name is kopa  and length is: 4\n",
      "4 = Countries name is Ujjal  and length is: 5\n",
      "5 = Countries name is Top  and length is: 3\n",
      "6 = Countries name is India  and length is: 5\n",
      "7 = Countries name is Bangladesh  and length is: 10\n"
     ]
    }
   ],
   "source": [
    "for i, country in enumerate(countries):\n",
    "    print(f\"{i+1} = Countries name is {country}  and length is: {len(country)}\")"
   ]
  },
  {
   "cell_type": "code",
   "execution_count": 38,
   "id": "a13a219b-f43c-4800-95ad-b293a8271054",
   "metadata": {},
   "outputs": [],
   "source": [
    "person = {\n",
    "    \"name\": \"Alice\",\n",
    "    \"age\": 25,\n",
    "    \"is_student\": True,\n",
    "    \"skills\": [\"Python\", \"JavaScript\"]\n",
    "}"
   ]
  },
  {
   "cell_type": "code",
   "execution_count": 47,
   "id": "e1acabe1-4fb1-4b36-ae71-a6da9fe5a4d9",
   "metadata": {},
   "outputs": [
    {
     "name": "stdout",
     "output_type": "stream",
     "text": [
      "The key is: name and the value is: Alice\n",
      "The key is: age and the value is: 25\n",
      "The key is: is_student and the value is: True\n",
      "The key is: skills and the value is: ['Python', 'JavaScript']\n"
     ]
    }
   ],
   "source": [
    "for key, value in person.items():\n",
    "    print(f\"The key is: {key} and the value is: {value}\")"
   ]
  },
  {
   "cell_type": "code",
   "execution_count": 62,
   "id": "8e841a63-a3c2-4ec3-b78b-070a306c2f88",
   "metadata": {},
   "outputs": [],
   "source": [
    "def fibonacci(nums):\n",
    "    print(nums)\n",
    "    if(nums==0):\n",
    "        return 0\n",
    "    elif nums==1:\n",
    "        return 1\n",
    "    else:\n",
    "        return (fibonacci(nums-1)+fibonacci(nums-2))"
   ]
  },
  {
   "cell_type": "code",
   "execution_count": 63,
   "id": "539bdd1b-5717-47e3-a14e-c99665f5d47a",
   "metadata": {},
   "outputs": [
    {
     "name": "stdout",
     "output_type": "stream",
     "text": [
      "4\n",
      "3\n",
      "2\n",
      "1\n",
      "0\n",
      "1\n",
      "2\n",
      "1\n",
      "0\n",
      "3\n"
     ]
    }
   ],
   "source": [
    "print(fibonacci(4))"
   ]
  },
  {
   "cell_type": "code",
   "execution_count": 65,
   "id": "99b8d52a-ceac-4da5-b5dc-b911482e5a16",
   "metadata": {},
   "outputs": [],
   "source": [
    "import os"
   ]
  },
  {
   "cell_type": "code",
   "execution_count": 66,
   "id": "363fbdd4-cf98-4ec0-bf4a-eb9e80409358",
   "metadata": {},
   "outputs": [
    {
     "data": {
      "text/plain": [
       "['C:\\\\Users\\\\ujjal\\\\anaconda3',\n",
       " 'C:\\\\Users\\\\ujjal\\\\anaconda3\\\\Library\\\\mingw-w64\\\\bin',\n",
       " 'C:\\\\Users\\\\ujjal\\\\anaconda3\\\\Library\\\\usr\\\\bin',\n",
       " 'C:\\\\Users\\\\ujjal\\\\anaconda3\\\\Library\\\\bin',\n",
       " 'C:\\\\Users\\\\ujjal\\\\anaconda3\\\\Scripts',\n",
       " 'C:\\\\WINDOWS\\\\system32',\n",
       " 'C:\\\\WINDOWS',\n",
       " 'C:\\\\WINDOWS\\\\System32\\\\Wbem',\n",
       " 'C:\\\\WINDOWS\\\\System32\\\\WindowsPowerShell\\\\v1.0\\\\',\n",
       " 'C:\\\\WINDOWS\\\\System32\\\\OpenSSH\\\\',\n",
       " 'C:\\\\Program Files\\\\Git\\\\cmd',\n",
       " 'C:\\\\laragon\\\\bin\\\\php\\\\php-8.2.22-nts-Win32-vs16-x64',\n",
       " 'C:\\\\laragon\\\\bin\\\\php\\\\php-8.1.10-Win32-vs16-x64',\n",
       " 'C:\\\\Users\\\\ujjal\\\\AppData\\\\Roaming\\\\nvm',\n",
       " 'C:\\\\Program Files\\\\nodejs',\n",
       " 'C:\\\\Program Files\\\\Docker\\\\Docker\\\\resources\\\\bin',\n",
       " 'C:\\\\Program Files\\\\dotnet\\\\',\n",
       " 'C:\\\\laragon\\\\bin',\n",
       " 'C:\\\\laragon\\\\bin\\\\apache\\\\httpd-2.4.54-win64-VS16\\\\bin',\n",
       " 'C:\\\\laragon\\\\bin\\\\composer',\n",
       " 'C:\\\\laragon\\\\bin\\\\git\\\\bin',\n",
       " 'C:\\\\laragon\\\\bin\\\\git\\\\cmd',\n",
       " 'C:\\\\laragon\\\\bin\\\\git\\\\mingw64\\\\bin',\n",
       " 'C:\\\\laragon\\\\bin\\\\git\\\\usr\\\\bin',\n",
       " 'C:\\\\laragon\\\\bin\\\\php\\\\php-8.2.22-nts-Win32-vs16-x64',\n",
       " 'C:\\\\laragon\\\\bin\\\\php\\\\php-8.1.10-Win32-vs16-x64',\n",
       " 'C:\\\\laragon\\\\bin\\\\laragon\\\\utils',\n",
       " 'C:\\\\laragon\\\\bin\\\\mysql\\\\mysql-8.0.30-winx64\\\\bin',\n",
       " 'C:\\\\laragon\\\\bin\\\\nginx\\\\nginx-1.22.0',\n",
       " 'C:\\\\laragon\\\\bin\\\\ngrok',\n",
       " 'C:\\\\laragon\\\\bin\\\\notepad++',\n",
       " 'C:\\\\laragon\\\\bin\\\\python\\\\python-3.10',\n",
       " 'C:\\\\laragon\\\\bin\\\\python\\\\python-3.10\\\\Scripts',\n",
       " 'C:\\\\laragon\\\\bin\\\\redis\\\\redis-x64-5.0.14.1',\n",
       " 'C:\\\\laragon\\\\bin\\\\telnet',\n",
       " 'C:\\\\laragon\\\\usr\\\\bin',\n",
       " 'C:\\\\Users\\\\ujjal\\\\AppData\\\\Local\\\\Yarn\\\\config\\\\global\\\\node_modules\\\\.bin',\n",
       " 'C:\\\\Users\\\\ujjal\\\\AppData\\\\Roaming\\\\Composer\\\\vendor\\\\bin',\n",
       " 'C:\\\\Users\\\\ujjal\\\\AppData\\\\Roaming\\\\npm',\n",
       " 'C:\\\\Users\\\\ujjal\\\\AppData\\\\Local\\\\Microsoft\\\\WindowsApps',\n",
       " 'C:\\\\Program Files\\\\JetBrains\\\\WebStorm 2024.1.5\\\\bin',\n",
       " 'C:\\\\Program Files\\\\JetBrains\\\\PhpStorm 2024.1.4\\\\bin',\n",
       " 'C:\\\\Users\\\\ujjal\\\\AppData\\\\Local\\\\Programs\\\\Microsoft VS Code\\\\bin',\n",
       " 'C:\\\\Users\\\\ujjal\\\\AppData\\\\Roaming\\\\nvm',\n",
       " 'C:\\\\Program Files\\\\nodejs',\n",
       " 'C:\\\\Program Files\\\\JetBrains\\\\PyCharm 2024.2.3\\\\bin',\n",
       " '',\n",
       " 'C:\\\\Users\\\\ujjal\\\\AppData\\\\Local\\\\Microsoft\\\\WindowsApps',\n",
       " 'C:\\\\Users\\\\ujjal\\\\.dotnet\\\\tools']"
      ]
     },
     "execution_count": 66,
     "metadata": {},
     "output_type": "execute_result"
    }
   ],
   "source": [
    "os.get_exec_path()"
   ]
  },
  {
   "cell_type": "code",
   "execution_count": 67,
   "id": "16752b02-8311-446f-b32c-b70542a9efd1",
   "metadata": {},
   "outputs": [
    {
     "data": {
      "text/plain": [
       "'C:\\\\Users\\\\ujjal\\\\DataScience'"
      ]
     },
     "execution_count": 67,
     "metadata": {},
     "output_type": "execute_result"
    }
   ],
   "source": [
    "os.getcwd()"
   ]
  },
  {
   "cell_type": "code",
   "execution_count": null,
   "id": "c8ee0c41-1d42-4f12-a7af-c6d54b56b496",
   "metadata": {},
   "outputs": [],
   "source": []
  }
 ],
 "metadata": {
  "kernelspec": {
   "display_name": "Python [conda env:base] *",
   "language": "python",
   "name": "conda-base-py"
  },
  "language_info": {
   "codemirror_mode": {
    "name": "ipython",
    "version": 3
   },
   "file_extension": ".py",
   "mimetype": "text/x-python",
   "name": "python",
   "nbconvert_exporter": "python",
   "pygments_lexer": "ipython3",
   "version": "3.12.7"
  }
 },
 "nbformat": 4,
 "nbformat_minor": 5
}
